{
 "cells": [
  {
   "cell_type": "code",
   "execution_count": 6,
   "metadata": {},
   "outputs": [
    {
     "name": "stdout",
     "output_type": "stream",
     "text": [
      "Dev size: (1000, 6)\n"
     ]
    }
   ],
   "source": [
    "import pandas as pd\n",
    "import numpy as np\n",
    "import os\n",
    "\n",
    "base_path = \"/data/user_data/sbharad2/SpeechCLIP/data\"\n",
    "\n",
    "embedding_read_path_pattern = (\n",
    "    \"{base_path}/Flickr8k.{csv_name}.token.txt.audio_embeddings/\"\n",
    ")\n",
    "\n",
    "# FLICKR\n",
    "csv_path_pattern = \"{base_path}/flickr/{csv_name}.csv\"\n",
    "\n",
    "dev_df = pd.read_csv(\n",
    "    csv_path_pattern.format(base_path=base_path, csv_name=\"flickr_dev_sampled\")\n",
    ")\n",
    "\n",
    "# change target type as list\n",
    "dev_df[\"target\"] = dev_df[\"target\"].apply(eval)\n",
    "\n",
    "print(\"Dev size:\", dev_df.shape)"
   ]
  },
  {
   "cell_type": "code",
   "execution_count": 16,
   "metadata": {},
   "outputs": [],
   "source": [
    "def _load_embeddings(df, embedding_read_path):\n",
    "    embeddings = {}\n",
    "    for i, r in df.iterrows():\n",
    "        try:\n",
    "            example_id = r[\"example_id\"]\n",
    "            embedding = np.load(os.path.join(embedding_read_path, example_id) + \".npy\")\n",
    "            embeddings[example_id] = embedding\n",
    "        except FileNotFoundError:\n",
    "            print(f\"File not found for {example_id}.npy\")\n",
    "\n",
    "    return embeddings\n",
    "\n",
    "\n",
    "embeddings = _load_embeddings(\n",
    "    dev_df,\n",
    "    embedding_read_path_pattern.format(\n",
    "        base_path=base_path, csv_name=\"flickr_dev_sampled\"\n",
    "    ),\n",
    ")\n",
    "\n",
    "noisy_embeddings = _load_embeddings(\n",
    "    dev_df,\n",
    "    base_path + \"/noisy.Flickr8k.flickr_dev_sampled.token.txt.audio_embeddings/\",\n",
    ")"
   ]
  },
  {
   "cell_type": "code",
   "execution_count": 17,
   "metadata": {},
   "outputs": [],
   "source": [
    "def _get_image_id(example_id):\n",
    "    return example_id.split(\"#\")[0]\n",
    "\n",
    "\n",
    "def _get_caption_id(example_id):\n",
    "    return example_id.split(\"#\")[1]\n",
    "\n",
    "\n",
    "def compute_intra_image_similarities(embeddings):\n",
    "    images_seen = set()\n",
    "    similarities = []\n",
    "    for example_id in embeddings.keys():\n",
    "        image_id = _get_image_id(example_id)\n",
    "        if image_id in images_seen:\n",
    "            continue\n",
    "        within_image_similarities = []  # Should have 10 numbers (5C2)\n",
    "        for cid1 in range(5):\n",
    "            for cid2 in range(cid1 + 1, 5):\n",
    "                ex1 = image_id + \"#\" + str(cid1)\n",
    "                ex2 = image_id + \"#\" + str(cid2)\n",
    "                sim = np.dot(embeddings[ex1], embeddings[ex2]) / (\n",
    "                    np.linalg.norm(embeddings[ex1]) * np.linalg.norm(embeddings[ex2])\n",
    "                )\n",
    "                within_image_similarities.append(sim)\n",
    "        assert len(within_image_similarities) == 10\n",
    "        # add mean similarity\n",
    "        similarities.append(np.mean(within_image_similarities))\n",
    "        images_seen.add(image_id)\n",
    "    return similarities\n",
    "\n",
    "\n",
    "def compute_inter_image_similarities(embeddings):\n",
    "    images = list(set([_get_image_id(example_id) for example_id in embeddings.keys()]))\n",
    "    inter_image_similarities = []\n",
    "    for i in range(len(images)):\n",
    "        outside_image_similarities = []\n",
    "        for j in range(len(images)):\n",
    "            if i == j:\n",
    "                continue\n",
    "            sim = np.dot(embeddings[images[i] + \"#0\"], embeddings[images[j] + \"#0\"]) / (\n",
    "                np.linalg.norm(embeddings[images[i] + \"#0\"])\n",
    "                * np.linalg.norm(embeddings[images[j] + \"#0\"])\n",
    "            )\n",
    "            outside_image_similarities.append(sim)\n",
    "        assert len(outside_image_similarities) == len(images) - 1\n",
    "        inter_image_similarities.append(np.mean(outside_image_similarities))\n",
    "    return inter_image_similarities"
   ]
  },
  {
   "cell_type": "code",
   "execution_count": 18,
   "metadata": {},
   "outputs": [
    {
     "name": "stdout",
     "output_type": "stream",
     "text": [
      "Intra image similarities: 0.5382721 200\n",
      "Inter image similarities: 0.025960488 200\n"
     ]
    }
   ],
   "source": [
    "intra_image_similarities = compute_intra_image_similarities(embeddings)\n",
    "inter_image_similarities = compute_inter_image_similarities(embeddings)\n",
    "print(\n",
    "    \"Intra image similarities:\",\n",
    "    np.mean(intra_image_similarities),\n",
    "    len(intra_image_similarities),\n",
    ")\n",
    "print(\n",
    "    \"Inter image similarities:\",\n",
    "    np.mean(inter_image_similarities),\n",
    "    len(inter_image_similarities),\n",
    ")"
   ]
  },
  {
   "cell_type": "code",
   "execution_count": null,
   "metadata": {},
   "outputs": [
    {
     "name": "stdout",
     "output_type": "stream",
     "text": [
      "Noisy Intra image similarities: 0.40748093 200\n",
      "Noisy Inter image similarities: 0.06338069 200\n"
     ]
    }
   ],
   "source": [
    "# Compute for noisy embeddings\n",
    "noisy_intra_image_similarities = compute_intra_image_similarities(noisy_embeddings)\n",
    "noisy_inter_image_similarities = compute_inter_image_similarities(noisy_embeddings)\n",
    "print(\n",
    "    \"Noisy Intra image similarities:\",\n",
    "    np.mean(noisy_intra_image_similarities),\n",
    "    len(noisy_intra_image_similarities),\n",
    ")\n",
    "print(\n",
    "    \"Noisy Inter image similarities:\",\n",
    "    np.mean(noisy_inter_image_similarities),\n",
    "    len(noisy_inter_image_similarities),\n",
    ")"
   ]
  },
  {
   "cell_type": "code",
   "execution_count": null,
   "metadata": {},
   "outputs": [
    {
     "name": "stdout",
     "output_type": "stream",
     "text": [
      "Similarity between clean and noisy embeddings: 0.7409807 1000\n"
     ]
    }
   ],
   "source": [
    "# Compute similarity between clean and noisy embeddings\n",
    "def compute_similarity_between_clean_and_noisy(embeddings, noisy_embeddings):\n",
    "    similarities = []\n",
    "    for example_id in embeddings.keys():\n",
    "        sim = np.dot(embeddings[example_id], noisy_embeddings[example_id]) / (\n",
    "            np.linalg.norm(embeddings[example_id])\n",
    "            * np.linalg.norm(noisy_embeddings[example_id])\n",
    "        )\n",
    "        similarities.append(sim)\n",
    "    return similarities\n",
    "\n",
    "\n",
    "print(\n",
    "    \"Similarity between clean and noisy embeddings:\",\n",
    "    np.mean(compute_similarity_between_clean_and_noisy(embeddings, noisy_embeddings)),\n",
    "    len(compute_similarity_between_clean_and_noisy(embeddings, noisy_embeddings)),\n",
    ")"
   ]
  },
  {
   "cell_type": "code",
   "execution_count": null,
   "metadata": {},
   "outputs": [],
   "source": []
  }
 ],
 "metadata": {
  "kernelspec": {
   "display_name": "spclip",
   "language": "python",
   "name": "python3"
  },
  "language_info": {
   "codemirror_mode": {
    "name": "ipython",
    "version": 3
   },
   "file_extension": ".py",
   "mimetype": "text/x-python",
   "name": "python",
   "nbconvert_exporter": "python",
   "pygments_lexer": "ipython3",
   "version": "3.8.20"
  }
 },
 "nbformat": 4,
 "nbformat_minor": 2
}
