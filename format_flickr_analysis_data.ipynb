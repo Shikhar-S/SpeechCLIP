{
 "cells": [
  {
   "cell_type": "code",
   "execution_count": 1,
   "metadata": {},
   "outputs": [],
   "source": [
    "import pandas as pd\n",
    "\n",
    "\n",
    "def read_and_prepare_data(csv_name=\"flickr_dev_sampled\"):\n",
    "    flickr_base = \"/data/user_data/sbharad2/SpeechCLIP/data/flickr/\"\n",
    "    data_df = pd.read_csv(f\"{flickr_base}/{csv_name}.csv\")\n",
    "\n",
    "    write_token_file = f\"{flickr_base}/Flickr8k.{csv_name}.token.txt\"\n",
    "    with open(write_token_file, \"w\") as f:\n",
    "        for i, row in data_df.iterrows():\n",
    "            f.write(f\"{row['example_id']}\\t{row['caption']}\\n\")\n",
    "\n",
    "    write_image_list_file = f\"Flickr_8k.{csv_name}Images.txt\"\n",
    "    write_image_list_file = f\"{flickr_base}/{write_image_list_file}\"\n",
    "    with open(write_image_list_file, \"w\") as f:\n",
    "        all_images = data_df[\"image_id\"].unique()\n",
    "        for r in all_images:\n",
    "            f.write(f\"{r}\\n\")"
   ]
  },
  {
   "cell_type": "code",
   "execution_count": null,
   "metadata": {},
   "outputs": [],
   "source": [
    "read_and_prepare_data(csv_name=\"flickr_dev_sampled\")"
   ]
  },
  {
   "cell_type": "code",
   "execution_count": null,
   "metadata": {},
   "outputs": [],
   "source": [
    "read_and_prepare_data(csv_name=\"flickr_test_sampled\")"
   ]
  }
 ],
 "metadata": {
  "kernelspec": {
   "display_name": "spclip",
   "language": "python",
   "name": "python3"
  },
  "language_info": {
   "codemirror_mode": {
    "name": "ipython",
    "version": 3
   },
   "file_extension": ".py",
   "mimetype": "text/x-python",
   "name": "python",
   "nbconvert_exporter": "python",
   "pygments_lexer": "ipython3",
   "version": "3.8.20"
  }
 },
 "nbformat": 4,
 "nbformat_minor": 2
}
