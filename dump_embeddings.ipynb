{
 "cells": [
  {
   "cell_type": "code",
   "execution_count": 1,
   "metadata": {},
   "outputs": [
    {
     "name": "stderr",
     "output_type": "stream",
     "text": [
      "/data/user_data/sbharad2/espnet/tools/miniconda/envs/spclip/lib/python3.8/site-packages/tqdm/auto.py:21: TqdmWarning: IProgress not found. Please update jupyter and ipywidgets. See https://ipywidgets.readthedocs.io/en/stable/user_install.html\n",
      "  from .autonotebook import tqdm as notebook_tqdm\n"
     ]
    }
   ],
   "source": [
    "import os\n",
    "import sys\n",
    "\n",
    "base_module_pth = \"/data/user_data/sbharad2/SpeechCLIP\"\n",
    "sys.path.append(os.path.abspath(base_module_pth))\n",
    "\n",
    "import argparse\n",
    "import warnings\n",
    "import importlib\n",
    "\n",
    "from avssl import task"
   ]
  },
  {
   "cell_type": "code",
   "execution_count": 2,
   "metadata": {},
   "outputs": [],
   "source": [
    "parser = argparse.ArgumentParser()\n",
    "parser.add_argument(\n",
    "    \"--task\", default=\"TrainKWClip_GeneralTransformer\", type=str, required=False\n",
    ")\n",
    "\n",
    "args, unknown = parser.parse_known_args()\n",
    "runner = getattr(task, args.task)()\n",
    "parser = runner.add_args(parser)"
   ]
  },
  {
   "cell_type": "code",
   "execution_count": 3,
   "metadata": {},
   "outputs": [],
   "source": [
    "oldsysargv = sys.argv\n",
    "cmdstring = \"TrainKWClip_GeneralTransformer --name=flickr_analysis --text_file=Flickr8k.flickr_train_sampled.token.txt --resume=/data/user_data/sbharad2/SpeechCLIP/slt_ckpts/SpeechCLIP/base/flickr/parallel/epoch_131-step_15443-val_recall_mean_1_36.0100.ckpt --dataset_root=data/flickr --gpus=1 --njobs=4 --seed=7122 --test --save_path=exp_test\"\n",
    "sys.argv = cmdstring.split()\n",
    "args = runner.parse_args(parser)\n",
    "# sys.argv = oldsysargv"
   ]
  },
  {
   "cell_type": "code",
   "execution_count": 4,
   "metadata": {},
   "outputs": [
    {
     "name": "stderr",
     "output_type": "stream",
     "text": [
      "Global seed set to 7122\n",
      "/data/user_data/sbharad2/espnet/tools/miniconda/envs/spclip/lib/python3.8/site-packages/pytorch_lightning/utilities/cloud_io.py:38: FutureWarning: You are using `torch.load` with `weights_only=False` (the current default value), which uses the default pickle module implicitly. It is possible to construct malicious pickle data which will execute arbitrary code during unpickling (See https://github.com/pytorch/pytorch/blob/main/SECURITY.md#untrusted-models for more details). In a future release, the default value for `weights_only` will be flipped to `True`. This limits the functions that could be executed during unpickling. Arbitrary objects will no longer be allowed to be loaded via this mode unless they are explicitly allowlisted by the user via `torch.serialization.add_safe_globals`. We recommend you start setting `weights_only=True` for any use case where you don't have full control of the loaded file. Please open an issue on GitHub for any issues related to this experimental feature.\n",
      "  return torch.load(f, map_location=map_location)\n",
      "/data/user_data/sbharad2/espnet/tools/miniconda/envs/spclip/lib/python3.8/site-packages/pytorch_lightning/core/lightning.py:2054: DeprecationWarning: `torch.distributed._sharded_tensor` will be deprecated, use `torch.distributed._shard.sharded_tensor` instead\n",
      "  from torch.distributed._sharded_tensor import pre_load_state_dict_hook, state_dict_hook\n",
      "/data/user_data/sbharad2/espnet/tools/miniconda/envs/spclip/lib/python3.8/site-packages/fairseq/checkpoint_utils.py:315: FutureWarning: You are using `torch.load` with `weights_only=False` (the current default value), which uses the default pickle module implicitly. It is possible to construct malicious pickle data which will execute arbitrary code during unpickling (See https://github.com/pytorch/pytorch/blob/main/SECURITY.md#untrusted-models for more details). In a future release, the default value for `weights_only` will be flipped to `True`. This limits the functions that could be executed during unpickling. Arbitrary objects will no longer be allowed to be loaded via this mode unless they are explicitly allowlisted by the user via `torch.serialization.add_safe_globals`. We recommend you start setting `weights_only=True` for any use case where you don't have full control of the loaded file. Please open an issue on GitHub for any issues related to this experimental feature.\n",
      "  state = torch.load(f, map_location=torch.device(\"cpu\"))\n"
     ]
    },
    {
     "name": "stdout",
     "output_type": "stream",
     "text": [
      "Using cache found in /home/sbharad2/.cache/torch/hub/s3prl_cache/5e6b91abd59b390dc3f89225f0e7d26f5bcb6fac496a08110c8862e3b1bb93e7\n",
      "for https://dl.fbaipublicfiles.com/hubert/hubert_base_ls960.pt\n"
     ]
    },
    {
     "name": "stderr",
     "output_type": "stream",
     "text": [
      "2024-11-08 17:22:32 | INFO | fairseq.tasks.hubert_pretraining | current directory is /data/user_data/sbharad2/SpeechCLIP\n",
      "2024-11-08 17:22:32 | INFO | fairseq.tasks.hubert_pretraining | HubertPretrainingTask Config {'_name': 'hubert_pretraining', 'data': '/checkpoint/wnhsu/data/librispeech/960h/iter/250K_50hz_km100_mp0_65_v2', 'fine_tuning': False, 'labels': ['layer6.km500'], 'label_dir': None, 'label_rate': 50.0, 'sample_rate': 16000, 'normalize': False, 'enable_padding': False, 'max_keep_size': None, 'max_sample_size': 250000, 'min_sample_size': 32000, 'single_target': False, 'random_crop': True, 'pad_audio': False}\n",
      "2024-11-08 17:22:32 | INFO | fairseq.models.hubert.hubert | HubertModel Config: {'_name': 'hubert', 'label_rate': 50.0, 'extractor_mode': default, 'encoder_layers': 12, 'encoder_embed_dim': 768, 'encoder_ffn_embed_dim': 3072, 'encoder_attention_heads': 12, 'activation_fn': gelu, 'layer_type': transformer, 'dropout': 0.1, 'attention_dropout': 0.1, 'activation_dropout': 0.0, 'encoder_layerdrop': 0.05, 'dropout_input': 0.1, 'dropout_features': 0.1, 'final_dim': 256, 'untie_final_proj': False, 'layer_norm_first': False, 'conv_feature_layers': '[(512,10,5)] + [(512,3,2)] * 4 + [(512,2,2)] * 2', 'conv_bias': False, 'logit_temp': 0.1, 'target_glu': False, 'feature_grad_mult': 0.1, 'mask_length': 10, 'mask_prob': 0.8, 'mask_selection': static, 'mask_other': 0.0, 'no_mask_overlap': False, 'mask_min_space': 1, 'mask_channel_length': 10, 'mask_channel_prob': 0.0, 'mask_channel_selection': static, 'mask_channel_other': 0.0, 'no_mask_channel_overlap': False, 'mask_channel_min_space': 1, 'conv_pos': 128, 'conv_pos_groups': 16, 'latent_temp': [2.0, 0.5, 0.999995], 'skip_masked': False, 'skip_nomask': False, 'checkpoint_activations': False, 'required_seq_len_multiple': 2, 'depthwise_conv_kernel_size': 31, 'attn_type': '', 'pos_enc_type': 'abs', 'fp16': True}\n",
      "/data/user_data/sbharad2/espnet/tools/miniconda/envs/spclip/lib/python3.8/site-packages/torch/nn/utils/weight_norm.py:134: FutureWarning: `torch.nn.utils.weight_norm` is deprecated in favor of `torch.nn.utils.parametrizations.weight_norm`.\n",
      "  WeightNorm.apply(module, name, dim)\n",
      "2024-11-08 17:22:33 | INFO | avssl.module.speech_encoder_plus | Normalize waveform = (False)\n",
      "2024-11-08 17:22:33 | INFO | avssl.module.speech_encoder_plus | Loaded s3prl speech encoder (hubert): out_dim = 768 layer_drop = 0.0\n",
      "2024-11-08 17:22:33 | INFO | avssl.module.speech_encoder_plus | Using weighted sum for all hiddenstates(13)\n",
      "2024-11-08 17:22:36 | WARNING | avssl.module.clip_official | Reduce text embedding to size of 8112\n",
      "2024-11-08 17:22:36 | INFO | avssl.model.kwClip | Create Parallel Branch\n",
      "2024-11-08 17:22:36 | INFO | avssl.model.kwClip | Using TransformerEncoder as KW_ParallelBranch (projection=True)\n",
      "2024-11-08 17:22:36 | INFO | avssl.module.kw_modules.TransformerModels | Using 1 layer transformer encoder\n",
      "2024-11-08 17:22:36 | INFO | avssl.model.kwClip | Start init [CLS] torch.Size([1, 1, 768])\n",
      "2024-11-08 17:22:36 | INFO | avssl.data.flickr_dataset | Load clip (ViT-B/32) for image transform\n",
      "2024-11-08 17:22:39 | INFO | avssl.data.flickr_dataset | Flickr8k (flickr_train_sampled): 1978 samples\n",
      "Using 16bit native Automatic Mixed Precision (AMP)\n",
      "/data/user_data/sbharad2/espnet/tools/miniconda/envs/spclip/lib/python3.8/site-packages/pytorch_lightning/plugins/precision/native_amp.py:53: FutureWarning: `torch.cuda.amp.GradScaler(args...)` is deprecated. Please use `torch.amp.GradScaler('cuda', args...)` instead.\n",
      "  scaler = torch.cuda.amp.GradScaler()\n",
      "/data/user_data/sbharad2/espnet/tools/miniconda/envs/spclip/lib/python3.8/site-packages/pytorch_lightning/trainer/connectors/checkpoint_connector.py:45: LightningDeprecationWarning: Setting `Trainer(resume_from_checkpoint=)` is deprecated in v1.5 and will be removed in v1.7. Please pass `Trainer.fit(ckpt_path=)` directly instead.\n",
      "  rank_zero_deprecation(\n",
      "GPU available: True, used: True\n",
      "TPU available: False, using: 0 TPU cores\n",
      "IPU available: False, using: 0 IPUs\n",
      "Restoring states from the checkpoint path at /data/user_data/sbharad2/SpeechCLIP/slt_ckpts/SpeechCLIP/base/flickr/parallel/epoch_131-step_15443-val_recall_mean_1_36.0100.ckpt\n"
     ]
    },
    {
     "name": "stdout",
     "output_type": "stream",
     "text": [
      "Flickr8k.flickr_train_sampled.token.txt File name\n",
      "Loaded captions for 2000 images from data/flickr/Flickr8k.flickr_train_sampled.token.txt\n"
     ]
    },
    {
     "name": "stderr",
     "output_type": "stream",
     "text": [
      "/data/user_data/sbharad2/espnet/tools/miniconda/envs/spclip/lib/python3.8/site-packages/pytorch_lightning/utilities/cloud_io.py:38: FutureWarning: You are using `torch.load` with `weights_only=False` (the current default value), which uses the default pickle module implicitly. It is possible to construct malicious pickle data which will execute arbitrary code during unpickling (See https://github.com/pytorch/pytorch/blob/main/SECURITY.md#untrusted-models for more details). In a future release, the default value for `weights_only` will be flipped to `True`. This limits the functions that could be executed during unpickling. Arbitrary objects will no longer be allowed to be loaded via this mode unless they are explicitly allowlisted by the user via `torch.serialization.add_safe_globals`. We recommend you start setting `weights_only=True` for any use case where you don't have full control of the loaded file. Please open an issue on GitHub for any issues related to this experimental feature.\n",
      "  return torch.load(f, map_location=map_location)\n",
      "LOCAL_RANK: 0 - CUDA_VISIBLE_DEVICES: [0]\n",
      "Loaded model weights from checkpoint at /data/user_data/sbharad2/SpeechCLIP/slt_ckpts/SpeechCLIP/base/flickr/parallel/epoch_131-step_15443-val_recall_mean_1_36.0100.ckpt\n"
     ]
    },
    {
     "name": "stdout",
     "output_type": "stream",
     "text": [
      "Validating:   2%|▏         | 4/248 [00:03<02:23,  1.70it/s]"
     ]
    },
    {
     "name": "stderr",
     "output_type": "stream",
     "text": [
      "/data/user_data/sbharad2/espnet/tools/miniconda/envs/spclip/lib/python3.8/site-packages/pytorch_lightning/utilities/data.py:59: UserWarning: Trying to infer the `batch_size` from an ambiguous collection. The batch size we found is 8. To avoid any miscalculations, use `self.log(..., batch_size=batch_size)`.\n",
      "  warning_cache.warn(\n"
     ]
    },
    {
     "name": "stdout",
     "output_type": "stream",
     "text": [
      "Validating: 100%|█████████▉| 247/248 [00:13<00:00, 24.87it/s]Total #1978 images, #1978 audio\n",
      "val_recall_AI {'recall@1': 59.65622067451477, 'recall@5': 84.42871570587158, 'recall@10': 92.1638011932373}\n",
      "val_recall_IA {'recall@1': 66.38018488883972, 'recall@5': 88.97876739501953, 'recall@10': 94.3882703781128}\n",
      "val_recall_mean {'recall@1': 63.018202781677246, 'recall@5': 86.70374155044556, 'recall@10': 93.27603578567505}\n",
      "--------------------------------------------------------------------------------\n",
      "DATALOADER:0 VALIDATE RESULTS\n",
      "{'val_cl_temp': 14.285698890686035,\n",
      " 'val_cl_temp_epoch': 14.285698890686035,\n",
      " 'val_loss': 0.1850617527961731,\n",
      " 'val_loss_epoch': 0.1850617527961731,\n",
      " 'val_p_cl_loss': 0.1850617527961731,\n",
      " 'val_p_cl_loss_epoch': 0.1850617527961731}\n",
      "--------------------------------------------------------------------------------\n",
      "Validating: 100%|██████████| 248/248 [00:14<00:00, 17.58it/s]"
     ]
    },
    {
     "name": "stderr",
     "output_type": "stream",
     "text": [
      "/data/user_data/sbharad2/espnet/tools/miniconda/envs/spclip/lib/python3.8/site-packages/pytorch_lightning/utilities/data.py:59: UserWarning: Trying to infer the `batch_size` from an ambiguous collection. The batch size we found is 2. To avoid any miscalculations, use `self.log(..., batch_size=batch_size)`.\n",
      "  warning_cache.warn(\n"
     ]
    },
    {
     "name": "stdout",
     "output_type": "stream",
     "text": [
      "\n"
     ]
    }
   ],
   "source": [
    "runner.run()"
   ]
  },
  {
   "cell_type": "code",
   "execution_count": 5,
   "metadata": {},
   "outputs": [
    {
     "name": "stdout",
     "output_type": "stream",
     "text": [
      "2402462857_7684848704.jpg#0.npy\n",
      "(512,)\n"
     ]
    }
   ],
   "source": [
    "import numpy as np\n",
    "import os\n",
    "\n",
    "embedding_read_path = \"/data/user_data/sbharad2/SpeechCLIP/data/Flickr8k.flickr_train_sampled.token.txt.audio_embeddings/\"\n",
    "for filename in os.listdir(embedding_read_path):\n",
    "    if filename.endswith(\".npy\"):\n",
    "        print(filename)\n",
    "        embedding = np.load(os.path.join(embedding_read_path, filename))\n",
    "        print(embedding.shape)\n",
    "        break"
   ]
  },
  {
   "cell_type": "code",
   "execution_count": 6,
   "metadata": {},
   "outputs": [
    {
     "data": {
      "text/plain": [
       "array([ 2.05842052e-02,  4.10505608e-02, -3.43331955e-02,  5.32282405e-02,\n",
       "        3.40778567e-02,  1.23142483e-04, -2.92067863e-02,  2.23519318e-02,\n",
       "        1.43932298e-01,  3.98327932e-02, -2.51213722e-02, -1.27669214e-03,\n",
       "        6.97663128e-02, -3.27815264e-02,  8.72078910e-02, -5.11855334e-02,\n",
       "        2.19512478e-01, -3.86199355e-03,  3.34100500e-02,  2.77533215e-02,\n",
       "        1.05749391e-01,  1.51729947e-02,  9.65572074e-02, -1.09756239e-01,\n",
       "       -4.40360568e-02,  1.01251500e-02,  8.48509222e-02, -1.35132950e-02,\n",
       "       -1.73924752e-02,  2.01717354e-02, -1.78835094e-02,  2.54356340e-02,\n",
       "       -1.12754013e-03, -3.65575869e-03,  4.79250588e-02, -2.63778085e-04,\n",
       "        4.29754183e-02,  4.89856936e-02,  4.47456026e-04,  1.25469372e-01,\n",
       "       -4.10112776e-02, -6.86958572e-03,  4.43503186e-02,  1.05376197e-02,\n",
       "        2.71247961e-02,  3.80847082e-02, -4.53323908e-02,  2.81068683e-02,\n",
       "       -3.12887765e-02, -3.86150256e-02,  3.09352316e-02, -3.28748208e-03,\n",
       "        2.25287043e-02,  3.59830745e-02,  2.70265900e-02,  2.86568273e-02,\n",
       "        2.91282218e-02,  2.88139582e-02, -1.03117442e-02,  2.12912951e-02,\n",
       "        1.00092657e-01,  5.57816252e-02, -3.19958664e-02, -7.73871830e-03,\n",
       "        3.12102120e-02,  6.81557180e-03,  6.46595433e-02, -9.46716294e-02,\n",
       "       -2.99335197e-02, -1.24293336e-04,  8.47723559e-02, -1.47899864e-02,\n",
       "        5.55852093e-02,  4.70608361e-02,  5.85707054e-02, -1.02921026e-02,\n",
       "        7.74264634e-02, -2.92460695e-02, -1.80701036e-02, -1.66559219e-02,\n",
       "       -2.84996964e-02, -2.99924426e-02, -5.71565218e-02, -3.35278995e-02,\n",
       "       -3.24819935e-03, -5.18140569e-02,  5.82171604e-02, -2.37071905e-02,\n",
       "        7.20839994e-03,  5.67636965e-03,  2.12716535e-02, -3.94203253e-02,\n",
       "       -4.40213270e-03,  2.28822511e-02,  4.68644202e-02,  2.01128107e-02,\n",
       "        3.12544033e-03, -7.29678618e-03, -6.92163557e-02,  4.17969339e-02,\n",
       "        1.43259589e-03, -2.13109367e-02, -4.96927835e-02,  1.73433702e-02,\n",
       "        5.43085160e-03,  1.47507042e-02,  9.60858092e-02,  2.63194982e-02,\n",
       "       -3.91257033e-02, -3.38225178e-02,  5.22461683e-02, -5.01248948e-02,\n",
       "        3.14262658e-02, -3.21726389e-02,  5.43281585e-02, -1.31695699e-02,\n",
       "       -3.70633528e-02,  1.14902286e-02,  6.71736449e-02,  7.02377036e-02,\n",
       "       -1.79129727e-02, -2.03681495e-02,  1.23642720e-02, -1.39355855e-02,\n",
       "        5.96706234e-02, -2.86764689e-02, -7.22411275e-02,  4.66680080e-02,\n",
       "       -1.43505097e-03, -1.68719776e-02, -3.15735769e-03, -6.69379458e-02,\n",
       "        9.46225226e-03, -1.72058810e-02, -1.21416178e-05,  5.33264456e-03,\n",
       "        1.15196910e-02, -1.00721188e-01,  7.82710500e-03,  3.94399650e-02,\n",
       "       -1.43185928e-02,  4.23468947e-02, -2.02502999e-02,  1.22758858e-02,\n",
       "        9.97292902e-03,  5.80403861e-03,  5.42103089e-02, -2.19001789e-02,\n",
       "        1.50551461e-02, -1.16498151e-03,  5.22068851e-02,  5.02427444e-02,\n",
       "       -2.00637076e-02, -6.15169182e-02,  5.24033010e-02, -9.56537016e-03,\n",
       "        7.06305355e-02, -5.77457659e-02,  1.42007442e-02,  1.05572613e-02,\n",
       "        2.37538386e-03, -1.84923932e-02,  1.69014391e-02, -1.33856256e-02,\n",
       "        8.48509185e-03,  3.00120842e-02, -5.31791337e-03,  1.62729137e-02,\n",
       "        7.31053501e-02,  5.93956448e-02,  1.61550660e-02,  2.35500596e-02,\n",
       "       -1.38570191e-02,  2.40018107e-02,  6.44631311e-02, -5.08319885e-02,\n",
       "        6.86663911e-02, -3.17405313e-02,  9.83642116e-02,  1.34543702e-02,\n",
       "       -2.94621252e-02, -3.94203253e-02, -5.47209866e-02,  3.10530793e-02,\n",
       "       -3.20155099e-02,  2.00931691e-02,  5.59387542e-02, -1.40043302e-02,\n",
       "       -4.56171902e-03,  2.09377501e-02,  4.07755822e-02,  2.96388976e-02,\n",
       "        1.74072059e-03,  1.58309825e-02, -3.12887765e-02,  3.64348292e-02,\n",
       "       -4.01077718e-02, -1.70192868e-02, -1.14077352e-01,  1.92780513e-02,\n",
       "       -4.14826721e-02,  3.13476995e-02,  4.17183675e-02,  8.36724341e-02,\n",
       "       -8.06869417e-02,  8.15609843e-03, -8.44089873e-03, -2.78515294e-02,\n",
       "        2.75372658e-02,  4.64519486e-03,  5.14605120e-02,  9.51626617e-03,\n",
       "        3.52563448e-02,  3.57080959e-02, -4.30147015e-02, -3.67490910e-02,\n",
       "       -1.96021348e-02,  1.33758048e-02,  7.75050297e-02, -1.88950431e-02,\n",
       "       -7.06108939e-03,  1.25803277e-02,  5.69208264e-02,  1.09697310e-02,\n",
       "       -5.99063225e-02,  3.61402072e-02,  2.15073512e-03,  1.77853033e-02,\n",
       "        5.19711897e-02,  4.38396409e-02, -5.46817034e-02,  1.02724610e-02,\n",
       "       -1.73630118e-02, -2.04516249e-03, -8.30831937e-03,  4.67072874e-02,\n",
       "       -6.91770688e-02,  2.87943166e-02,  8.15118756e-03, -3.50402892e-02,\n",
       "        1.67344864e-02, -1.41418201e-03,  3.73579748e-02, -7.07091019e-03,\n",
       "        1.34543702e-02, -8.03333987e-03, -3.41957062e-02, -1.88086212e-01,\n",
       "        9.40332841e-03,  1.40927164e-02,  2.45124884e-02,  1.15000494e-02,\n",
       "        5.06355725e-02,  2.76158322e-02,  4.56073694e-02, -3.85168195e-02,\n",
       "       -4.95749377e-02, -2.93639172e-02, -3.95774562e-03,  1.08224209e-02,\n",
       "       -3.05669545e-03,  1.05867237e-02, -3.68865803e-02,  2.78908126e-02,\n",
       "        7.02769905e-02,  1.61059620e-03,  2.73801349e-02, -1.27300934e-03,\n",
       "        1.74219366e-02,  7.99405649e-02, -1.38177369e-02,  2.50231642e-02,\n",
       "       -8.87006372e-02, -3.01299337e-02,  1.95726715e-02,  1.34150879e-02,\n",
       "       -9.18236189e-03, -2.30786651e-02, -2.22930089e-02, -2.80479435e-02,\n",
       "       -3.44952382e-03, -4.59216312e-02, -1.01506844e-01,  2.63391398e-02,\n",
       "       -2.95014083e-02,  1.52908433e-02, -4.71786819e-02,  1.47605250e-02,\n",
       "       -1.78835094e-02,  2.41221138e-03, -1.36606051e-02,  4.64028493e-03,\n",
       "        2.70658731e-02,  2.74783429e-02,  3.59437913e-02, -2.40607355e-02,\n",
       "        9.85213444e-02, -8.31322931e-03, -3.81239913e-02, -1.19616231e-02,\n",
       "        1.88655816e-02,  3.98524329e-02, -1.98574718e-02,  9.53099784e-03,\n",
       "        1.59291886e-02,  1.18162766e-01,  4.74831229e-03,  4.92999554e-02,\n",
       "       -9.29038972e-03, -4.56466526e-02,  6.28132522e-02,  3.22708488e-02,\n",
       "       -1.71371363e-02, -4.02649045e-02, -1.21187540e-02,  1.85513180e-02,\n",
       "       -4.07313881e-03, -9.03996173e-03, -4.38494608e-03, -1.07713528e-01,\n",
       "        3.19958664e-02,  2.62409329e-01,  3.42251686e-03, -1.02442270e-03,\n",
       "        3.72204836e-03,  3.47849503e-02, -1.21187540e-02, -4.29754183e-02,\n",
       "       -3.09745148e-02,  3.27422433e-02, -7.10626468e-02,  7.25750346e-03,\n",
       "       -1.63612999e-02, -3.93024758e-02,  1.89441461e-02,  1.64693277e-02,\n",
       "       -1.77165587e-02,  3.42742726e-02,  3.05031203e-02, -2.26367335e-03,\n",
       "       -3.72597687e-02, -3.53545509e-03,  1.26490723e-02,  1.14018423e-02,\n",
       "        6.43452778e-02, -1.30124390e-02,  2.48660333e-02,  4.28182893e-02,\n",
       "        8.15511644e-02, -1.05388474e-03, -9.03505161e-02, -4.65501584e-02,\n",
       "       -3.99506427e-02, -2.19787452e-02,  1.53104840e-02, -1.66755635e-02,\n",
       "        1.71273146e-02, -2.37661134e-02,  2.91478634e-02,  2.33143624e-02,\n",
       "       -9.77160502e-03, -9.46470769e-04,  4.82135394e-04, -5.90715604e-03,\n",
       "        2.95996144e-02, -2.24280427e-03,  1.99329690e-04, -4.67858538e-02,\n",
       "       -4.62751761e-02,  9.96212661e-02,  4.27397229e-02,  2.51410138e-02,\n",
       "        3.14459093e-02,  3.01888585e-02, -9.23932269e-02,  1.12447115e-02,\n",
       "       -8.17868561e-02, -1.67737696e-02, -2.46499777e-02,  6.75664768e-02,\n",
       "        3.32332775e-02, -3.21529992e-02,  1.87673736e-02, -3.57473791e-02,\n",
       "        8.04512426e-02,  4.45467345e-02, -2.53570694e-02, -3.24819935e-03,\n",
       "       -1.86495259e-02,  1.07870661e-01, -4.60001975e-02, -1.14705876e-01,\n",
       "        5.37389182e-02, -5.47602698e-02, -4.92263027e-03,  1.77386543e-03,\n",
       "        1.93075128e-02, -2.01128107e-02, -1.12741731e-01, -7.45391753e-03,\n",
       "        1.53890504e-02, -2.92460695e-02,  6.23614993e-03,  3.33413039e-03,\n",
       "        1.60863195e-02,  6.25579106e-03,  3.99113595e-02,  1.54086910e-02,\n",
       "        4.84750159e-02,  1.51042491e-02,  4.05791663e-02,  7.02671707e-03,\n",
       "        3.85953821e-02,  2.29215343e-02,  1.36311436e-02, -6.90886844e-03,\n",
       "        3.92042696e-02, -1.97101627e-02,  5.24818674e-02, -2.19983868e-02,\n",
       "        1.88925874e-03,  2.29313551e-03, -4.27790061e-02, -7.69157857e-02,\n",
       "       -1.83745455e-02, -1.07143931e-02,  3.05816866e-02, -3.53152677e-02,\n",
       "       -4.93785217e-02,  2.81461496e-02, -2.27251183e-02, -6.08392898e-03,\n",
       "       -2.06627697e-02,  2.15073507e-02,  6.28918186e-02,  1.57720577e-02,\n",
       "       -6.51309416e-02,  2.42964327e-02,  9.82070807e-03,  3.27029591e-03,\n",
       "       -1.24231959e-02,  8.97219926e-02, -3.99211794e-03, -3.06798927e-02,\n",
       "        4.75322269e-02, -3.23297717e-02, -1.32186739e-02,  3.13673429e-02,\n",
       "       -2.71051545e-02, -3.75151052e-03,  2.68890988e-02, -2.26661954e-02,\n",
       "        4.72965315e-02, -4.87107150e-02, -1.70585699e-02, -2.60445178e-02,\n",
       "        2.46696193e-02,  5.94349280e-02, -3.92239094e-02,  1.09756239e-01,\n",
       "       -2.16055587e-02,  6.43059984e-02, -4.80036214e-02,  2.18608975e-02,\n",
       "        1.96414161e-02,  1.91503819e-02, -3.99113595e-02, -2.10555997e-02,\n",
       "       -1.08715240e-02,  5.09105511e-02,  1.92387681e-02,  2.48660333e-02,\n",
       "       -1.04806602e-01,  2.40410939e-02, -3.94988880e-02,  3.30957882e-02,\n",
       "       -2.79300939e-02, -1.31597498e-03, -2.14091446e-02,  4.47824299e-02,\n",
       "        4.03827541e-02, -1.06309168e-03, -2.51606554e-02,  1.28160240e-02,\n",
       "       -1.46917794e-02,  5.76475589e-03,  8.70114751e-03, -3.96953039e-02,\n",
       "       -1.55461812e-02,  6.01420179e-02, -4.99284826e-02,  5.11855334e-02,\n",
       "        5.20890355e-02, -2.52588615e-02,  3.66312428e-03,  1.02822818e-02,\n",
       "       -4.32504006e-02,  8.50473344e-03, -7.18483031e-02,  3.90864201e-02,\n",
       "        3.08566652e-02, -3.08370236e-02,  6.04464579e-03, -1.42154749e-03,\n",
       "       -9.23146605e-02,  4.96142171e-02, -1.38668399e-02,  2.43749991e-02,\n",
       "       -2.21088692e-03,  6.78021684e-02,  2.58481037e-02, -2.47359090e-03],\n",
       "      dtype=float32)"
      ]
     },
     "execution_count": 6,
     "metadata": {},
     "output_type": "execute_result"
    }
   ],
   "source": [
    "embedding"
   ]
  },
  {
   "cell_type": "code",
   "execution_count": 8,
   "metadata": {},
   "outputs": [
    {
     "data": {
      "text/plain": [
       "2.5978796"
      ]
     },
     "execution_count": 8,
     "metadata": {},
     "output_type": "execute_result"
    }
   ],
   "source": [
    "embedding.sum()"
   ]
  },
  {
   "cell_type": "code",
   "execution_count": null,
   "metadata": {},
   "outputs": [],
   "source": []
  }
 ],
 "metadata": {
  "kernelspec": {
   "display_name": "spclip",
   "language": "python",
   "name": "python3"
  },
  "language_info": {
   "codemirror_mode": {
    "name": "ipython",
    "version": 3
   },
   "file_extension": ".py",
   "mimetype": "text/x-python",
   "name": "python",
   "nbconvert_exporter": "python",
   "pygments_lexer": "ipython3",
   "version": "3.8.20"
  }
 },
 "nbformat": 4,
 "nbformat_minor": 2
}
