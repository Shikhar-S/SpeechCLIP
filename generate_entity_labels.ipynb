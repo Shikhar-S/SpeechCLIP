{
 "cells": [
  {
   "cell_type": "code",
   "execution_count": 5,
   "metadata": {},
   "outputs": [],
   "source": [
    "import nltk\n",
    "import json"
   ]
  },
  {
   "cell_type": "code",
   "execution_count": null,
   "metadata": {},
   "outputs": [],
   "source": [
    "# sentence = \"A URINAL IN A PUBLIC RESTROOM NEAR A WOODEN TABLE\"\n",
    "# sentence = \"A PERSON WITH GREEN SKIS SKIING DOWN A BIG HILL\"\n",
    "write_path_format = \"/data/user_data/sbharad2/SpeechCLIP/data/coco/SpokenCOCO/SpokenCOCO_{split}_with_nouns.json\"\n",
    "read_path_format = (\n",
    "    \"/data/user_data/sbharad2/SpeechCLIP/data/coco/SpokenCOCO/SpokenCOCO_{split}.json\"\n",
    ")\n",
    "\n",
    "\n",
    "def get_all_nouns(sentence):\n",
    "    nouns = []\n",
    "    for i, (word, postag) in enumerate(nltk.pos_tag(sentence.lower().split())):\n",
    "        if postag == \"NN\":\n",
    "            nouns.append(word)\n",
    "    return nouns"
   ]
  },
  {
   "cell_type": "code",
   "execution_count": null,
   "metadata": {},
   "outputs": [],
   "source": [
    "# data = None\n",
    "\n",
    "# for split in [\"train\", \"val\"]:\n",
    "#     print(\"Preparing data for split:\", split)\n",
    "#     data = None\n",
    "#     with open(read_path_format.format(split=split), \"r\") as f:\n",
    "#         data = json.load(f)[\"data\"]\n",
    "#         print(\"Total number of images:\", len(data))\n",
    "#         i = 0\n",
    "#         for datum in data:\n",
    "#             image_path = datum[\"image\"]\n",
    "#             for caption in datum[\"captions\"]:\n",
    "#                 caption[\"nltk_nouns\"] = get_all_nouns(caption[\"text\"])\n",
    "#             if i % 10000 == 0:\n",
    "#                 print(i)\n",
    "#             i += 1\n",
    "#     print(\"Writing to:\", write_path_format.format(split=split))\n",
    "#     with open(write_path_format.format(split=split), \"w\") as f:\n",
    "#         json.dump({\"data\": data}, f)"
   ]
  },
  {
   "cell_type": "code",
   "execution_count": null,
   "metadata": {},
   "outputs": [
    {
     "data": {
      "text/plain": [
       "3615"
      ]
     },
     "execution_count": 21,
     "metadata": {},
     "output_type": "execute_result"
    }
   ],
   "source": [
    "from collections import defaultdict\n",
    "\n",
    "all_nouns_val = defaultdict(int)\n",
    "\n",
    "with open(write_path_format.format(split=\"val\"), \"r\") as f:\n",
    "    data = json.load(f)[\"data\"]\n",
    "\n",
    "for datum in data:\n",
    "    try:\n",
    "        for cap in datum[\"captions\"]:\n",
    "            for nn in cap[\"nltk_nouns\"]:\n",
    "                if nn in all_nouns:\n",
    "                    all_nouns_val[nn] += 1\n",
    "                else:\n",
    "                    all_nouns_val[nn] = 1\n",
    "    except:\n",
    "        print(datum)\n",
    "\n",
    "print(len(all_nouns_val), \"labels in validation set\")"
   ]
  },
  {
   "cell_type": "code",
   "execution_count": 22,
   "metadata": {},
   "outputs": [
    {
     "name": "stdout",
     "output_type": "stream",
     "text": [
      "Total removed: 6108 Total captions: 592187 Total remaining: 586079\n"
     ]
    }
   ],
   "source": [
    "from collections import defaultdict\n",
    "\n",
    "all_nouns = defaultdict(int)\n",
    "\n",
    "with open(write_path_format.format(split=\"train\"), \"r\") as f:\n",
    "    data = json.load(f)[\"data\"]\n",
    "\n",
    "removed = 0\n",
    "total_caps = 0\n",
    "modified_data = []\n",
    "for datum in data:\n",
    "    modified_datum = datum\n",
    "    modified_caption = []\n",
    "    for caption in datum[\"captions\"]:\n",
    "        total_caps += 1\n",
    "        caption[\"target\"] = [w for w in caption[\"nltk_nouns\"] if w in all_nouns_val]\n",
    "        if len(caption[\"target\"]) == 0:\n",
    "            removed += 1\n",
    "        else:\n",
    "            # only add this caption if it has a target noun\n",
    "            modified_caption.append(caption)\n",
    "    if len(modified_caption) > 0:\n",
    "        # only add this image if it has at least one caption with a target noun\n",
    "        modified_datum[\"captions\"] = modified_caption\n",
    "        modified_data.append(modified_datum)\n",
    "\n",
    "new_write_path_train = \"/data/user_data/sbharad2/SpeechCLIP/data/coco/SpokenCOCO/SpokenCOCO_{split}_with_nouns_filtered.json\"\n",
    "with open(new_write_path_train.format(split=\"train\"), \"w\") as f:\n",
    "    json.dump({\"data\": modified_data}, f)\n",
    "\n",
    "print(\n",
    "    \"Total removed:\",\n",
    "    removed,\n",
    "    \"Total captions:\",\n",
    "    total_caps,\n",
    "    \"Total remaining:\",\n",
    "    total_caps - removed,\n",
    ")"
   ]
  },
  {
   "cell_type": "code",
   "execution_count": null,
   "metadata": {},
   "outputs": [],
   "source": [
    "all_nouns = {\n",
    "    k: v for k, v in sorted(all_nouns.items(), key=lambda item: item[1], reverse=True)\n",
    "}"
   ]
  },
  {
   "cell_type": "code",
   "execution_count": null,
   "metadata": {},
   "outputs": [],
   "source": []
  }
 ],
 "metadata": {
  "kernelspec": {
   "display_name": "spclip",
   "language": "python",
   "name": "python3"
  },
  "language_info": {
   "codemirror_mode": {
    "name": "ipython",
    "version": 3
   },
   "file_extension": ".py",
   "mimetype": "text/x-python",
   "name": "python",
   "nbconvert_exporter": "python",
   "pygments_lexer": "ipython3",
   "version": "3.8.20"
  }
 },
 "nbformat": 4,
 "nbformat_minor": 2
}
